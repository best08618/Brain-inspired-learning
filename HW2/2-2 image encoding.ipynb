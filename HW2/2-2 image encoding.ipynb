{
 "cells": [
  {
   "cell_type": "code",
   "execution_count": 1,
   "id": "1ebc17b7",
   "metadata": {},
   "outputs": [],
   "source": [
    "from dataloader import readChoirData"
   ]
  },
  {
   "cell_type": "code",
   "execution_count": 2,
   "id": "5fad66ca",
   "metadata": {},
   "outputs": [],
   "source": [
    "train = readChoirData(dir='../mnist/',data_path='mnist',data_type='train')"
   ]
  },
  {
   "cell_type": "code",
   "execution_count": 156,
   "id": "3e63c85b",
   "metadata": {},
   "outputs": [],
   "source": [
    "test = readChoirData(dir='../mnist/',data_path='mnist',data_type='test')"
   ]
  },
  {
   "cell_type": "code",
   "execution_count": 211,
   "id": "50866a39",
   "metadata": {},
   "outputs": [],
   "source": [
    "import torch\n",
    "import numpy as np\n",
    "\n",
    "class Image_HDC_Model ( object ) :\n",
    "    def __init__(self,dimension,method,input_features=(28,28),probability_distribution='Gaussian',classes= 10):\n",
    "        '''Hyperdimensional classification module . Arguments :\n",
    "            * dimension ( int , > 0) : The dimensionality of the high dimensional representation .\n",
    "            * Method : 'axis' , 'pixel'\n",
    "            * probability_distribution ( string ) : Probability distribution being used .←-\n",
    "                For now , it can be Uniform , Gaussian , or Laplacian .\n",
    "        '''\n",
    "        self.dimension = dimension\n",
    "        self.probability_distribution = probability_distribution\n",
    "        self.class_hypervector = torch.zeros((classes,dimension))\n",
    "        self.input_features = input_features\n",
    "        self.method = method  \n",
    "        self.cos = torch.nn.CosineSimilarity()\n",
    "        if method == 'pixel':\n",
    "            self.pixel_hypervector = self.generate_pixelbasis()\n",
    "            self.encode = self.pixel_encoding\n",
    "        elif method == 'axis':\n",
    "            self.axis_hypervector_x, self.axis_hypervector_y = self.generate_axisbasis()\n",
    "            self.encode = self.axis_encoding\n",
    "        \n",
    "    def generate_pixelbasis(self):\n",
    "        size = (self.input_features[0]*self.input_features[1],self.dimension)\n",
    "        if self.probability_distribution == 'Uniform':\n",
    "            return np.array(torch.empty(size).uniform_(-1,1))\n",
    "    \n",
    "        elif self.probability_distribution == 'Gaussian':\n",
    "            return np.random.normal(0,1,size)\n",
    "        \n",
    "        elif self.probability_distribution == 'Laplacian':\n",
    "             return np.random.laplace(0,1,size=size)\n",
    "        else:\n",
    "            raise \"Probability distribution error\"\n",
    "        \n",
    "    def generate_axisbasis(self):\n",
    "        # generating hypervectors for each x-axis (x-dimension shape), y-axis (y-dimension shape)\n",
    "        size = (self.input_features[0],self.dimension)\n",
    "        if self.probability_distribution == 'Uniform':\n",
    "            return (np.array(torch.empty(size).uniform_(-1,1)),np.array(torch.empty(size).uniform_(-1,1))) \n",
    "    \n",
    "        elif self.probability_distribution == 'Gaussian':\n",
    "            return (np.random.normal(0,1,size), np.random.normal(0,1,size))\n",
    "        \n",
    "        elif self.probability_distribution == 'Laplacian':\n",
    "             return (np.random.normal(0,1,size), np.random.normal(0,1,size))\n",
    "        else:\n",
    "            raise \"Probability distribution error\"        \n",
    "        \n",
    "    def pixel_encoding(self,image):\n",
    "        # Each image pixel has each hv, therefore, it is multiplied with each hv \n",
    "        input_image = torch.Tensor(image)\n",
    "        encoded_hv  = torch.matmul(input_image, torch.Tensor(self.pixel_hypervector))\n",
    "        return torch.tanh(encoded_hv)\n",
    "    \n",
    "    def axis_encoding(self,image):\n",
    "        # each image pixel is multiplied by each x-axis's hv and y-axis's hv of its position \n",
    "        input_image = image.reshape(self.input_features) # reshape the image for the position \n",
    "        encoded_hv = np.sum(input_image[:, :, np.newaxis] * self.axis_hypervector_x[:, np.newaxis, :] * self.axis_hypervector_y[np.newaxis, :, :], axis=(0, 1))\n",
    "        return torch.tanh(torch.Tensor(encoded_hv))\n",
    "    \n",
    "\n",
    "    def train(self,train_data):\n",
    "        i = 0\n",
    "        for x,y in train_data:\n",
    "            if i % 10000 ==  0:\n",
    "                print(i)\n",
    "            self.class_hypervector[y] += self.encode(x)\n",
    "            i += 1  \n",
    "    \n",
    "    def predict(self,data:torch.Tensor):\n",
    "        given_d = self.encode(data)\n",
    "        return np.argmax(self.cos(self.class_hypervector,given_d))\n",
    "    "
   ]
  },
  {
   "cell_type": "code",
   "execution_count": 212,
   "id": "8b9d86a9",
   "metadata": {},
   "outputs": [],
   "source": [
    "def test_model(model,test_data):\n",
    "    corr = 0\n",
    "    for data,label in zip(test_data['data'],test_data['labels']):\n",
    "        if model.predict(data) == label:\n",
    "            corr += 1 \n",
    "    acc  = corr / len(test_data[\"data\"])\n",
    "    print (f\"Accuracy {acc}\")\n",
    "    return acc"
   ]
  },
  {
   "cell_type": "code",
   "execution_count": 214,
   "id": "3d0de4cd",
   "metadata": {
    "scrolled": true
   },
   "outputs": [
    {
     "name": "stdout",
     "output_type": "stream",
     "text": [
      "0\n",
      "10000\n",
      "20000\n",
      "30000\n",
      "40000\n",
      "50000\n",
      "Accuracy 0.7785\n",
      "0\n",
      "10000\n",
      "20000\n",
      "30000\n",
      "40000\n",
      "50000\n",
      "Accuracy 0.8041\n",
      "0\n",
      "10000\n",
      "20000\n",
      "30000\n",
      "40000\n",
      "50000\n",
      "Accuracy 0.7978\n",
      "0\n",
      "10000\n",
      "20000\n",
      "30000\n",
      "40000\n",
      "50000\n",
      "Accuracy 0.8082\n",
      "0\n",
      "10000\n",
      "20000\n",
      "30000\n",
      "40000\n",
      "50000\n",
      "Accuracy 0.8174\n",
      "0\n",
      "10000\n",
      "20000\n",
      "30000\n",
      "40000\n",
      "50000\n",
      "Accuracy 0.8114\n",
      "0\n",
      "10000\n",
      "20000\n",
      "30000\n",
      "40000\n",
      "50000\n",
      "Accuracy 0.823\n",
      "0\n",
      "10000\n",
      "20000\n",
      "30000\n",
      "40000\n",
      "50000\n",
      "Accuracy 0.8195\n",
      "0\n",
      "10000\n",
      "20000\n",
      "30000\n",
      "40000\n",
      "50000\n",
      "Accuracy 0.8217\n",
      "0\n",
      "10000\n",
      "20000\n",
      "30000\n",
      "40000\n",
      "50000\n",
      "Accuracy 0.825\n",
      "0\n",
      "10000\n",
      "20000\n",
      "30000\n",
      "40000\n",
      "50000\n",
      "Accuracy 0.8254\n",
      "0\n",
      "10000\n",
      "20000\n",
      "30000\n",
      "40000\n",
      "50000\n",
      "Accuracy 0.8193\n"
     ]
    }
   ],
   "source": [
    "acc_axis = {}\n",
    "for dim in [256,512,4096,10000]:\n",
    "    for pb in ['Gaussian','Laplacian','Uniform']:\n",
    "        imghdc = Image_HDC_Model(dimension = dim, method = 'axis',probability_distribution=pb)\n",
    "        imghdc.train(zip(train['data'],train['labels']))\n",
    "        acc_axis[(dim,pb)] = test_model(imghdc,test)"
   ]
  },
  {
   "cell_type": "code",
   "execution_count": 237,
   "id": "c8e0193a",
   "metadata": {},
   "outputs": [],
   "source": [
    "import pandas as pd\n",
    "result_df_axis = pd.DataFrame(columns= ['dim','prob','acc'])\n",
    "for k in acc_axis:\n",
    "    result_df_axis = result_df_axis.append({'dim':k[0],'prob':k[1],'acc':acc_axis[k]},ignore_index=True )\n",
    "\n",
    "result_df_axis.to_csv('./imge_hdc_axis_result.csv')"
   ]
  },
  {
   "cell_type": "code",
   "execution_count": 228,
   "id": "9b93ab56",
   "metadata": {
    "collapsed": true
   },
   "outputs": [
    {
     "name": "stdout",
     "output_type": "stream",
     "text": [
      "0\n",
      "10000\n",
      "20000\n",
      "30000\n",
      "40000\n",
      "50000\n",
      "Accuracy 0.7938\n",
      "0\n",
      "10000\n",
      "20000\n",
      "30000\n",
      "40000\n",
      "50000\n",
      "Accuracy 0.8004\n",
      "0\n",
      "10000\n",
      "20000\n",
      "30000\n",
      "40000\n",
      "50000\n",
      "Accuracy 0.8089\n",
      "0\n",
      "10000\n",
      "20000\n",
      "30000\n",
      "40000\n",
      "50000\n",
      "Accuracy 0.8176\n",
      "0\n",
      "10000\n",
      "20000\n",
      "30000\n",
      "40000\n",
      "50000\n",
      "Accuracy 0.8074\n",
      "0\n",
      "10000\n",
      "20000\n",
      "30000\n",
      "40000\n",
      "50000\n",
      "Accuracy 0.8051\n",
      "0\n",
      "10000\n",
      "20000\n",
      "30000\n",
      "40000\n",
      "50000\n",
      "Accuracy 0.8238\n",
      "0\n",
      "10000\n",
      "20000\n",
      "30000\n",
      "40000\n",
      "50000\n",
      "Accuracy 0.8243\n",
      "0\n",
      "10000\n",
      "20000\n",
      "30000\n",
      "40000\n",
      "50000\n",
      "Accuracy 0.8229\n",
      "0\n",
      "10000\n",
      "20000\n",
      "30000\n",
      "40000\n",
      "50000\n",
      "Accuracy 0.8235\n",
      "0\n",
      "10000\n",
      "20000\n",
      "30000\n",
      "40000\n",
      "50000\n",
      "Accuracy 0.8245\n",
      "0\n",
      "10000\n",
      "20000\n",
      "30000\n",
      "40000\n",
      "50000\n",
      "Accuracy 0.8219\n"
     ]
    }
   ],
   "source": [
    "acc_pixel = {}\n",
    "for dim in [256,512,4096,10000]:\n",
    "    for pb in ['Gaussian','Laplacian','Uniform']:\n",
    "        imghdc = Image_HDC_Model(dimension = dim, method = 'pixel',probability_distribution=pb)\n",
    "        imghdc.train(zip(train['data'],train['labels']))\n",
    "        acc_pixel[(dim,pb)] = test_model(imghdc,test)"
   ]
  },
  {
   "cell_type": "code",
   "execution_count": 248,
   "id": "b838917d",
   "metadata": {},
   "outputs": [],
   "source": [
    "import pandas as pd\n",
    "result_df_pixel = pd.DataFrame(columns= ['dim','prob','acc'])\n",
    "for k in acc_pixel:\n",
    "    result_df_pixel = result_df_pixel.append({'dim':k[0],'prob':k[1],'acc':acc_pixel[k]},ignore_index=True )"
   ]
  },
  {
   "cell_type": "code",
   "execution_count": 249,
   "id": "bee4e2cb",
   "metadata": {},
   "outputs": [],
   "source": [
    "result_df_pixel.to_csv('./imge_hdc_pixel_result.csv')"
   ]
  },
  {
   "cell_type": "code",
   "execution_count": 250,
   "id": "567484a6",
   "metadata": {
    "scrolled": true
   },
   "outputs": [
    {
     "data": {
      "text/plain": [
       "<seaborn.axisgrid.FacetGrid at 0x7facc0059ca0>"
      ]
     },
     "execution_count": 250,
     "metadata": {},
     "output_type": "execute_result"
    },
    {
     "data": {
      "image/png": "[encoded data removed]",
      "text/plain": [
       "<Figure size 443.75x360 with 1 Axes>"
      ]
     },
     "metadata": {
      "needs_background": "light"
     },
     "output_type": "display_data"
    }
   ],
   "source": [
    "import seaborn as sns\n",
    "\n",
    "\n",
    "sns.catplot(x = \"dim\",       # x variable name\n",
    "            y = \"acc\",       # y variable name\n",
    "            hue = \"prob\",  # group variable name\n",
    "            data = result_df_axis,     # dataframe to plot\n",
    "            kind = \"bar\")"
   ]
  },
  {
   "cell_type": "code",
   "execution_count": 251,
   "id": "93f0b583",
   "metadata": {},
   "outputs": [
    {
     "data": {
      "text/plain": [
       "<seaborn.axisgrid.FacetGrid at 0x7facc0059df0>"
      ]
     },
     "execution_count": 251,
     "metadata": {},
     "output_type": "execute_result"
    },
    {
     "data": {
      "image/png": "[encoded data removed]",
      "text/plain": [
       "<Figure size 443.75x360 with 1 Axes>"
      ]
     },
     "metadata": {
      "needs_background": "light"
     },
     "output_type": "display_data"
    }
   ],
   "source": [
    "sns.catplot(x = \"dim\",       # x variable name\n",
    "            y = \"acc\",       # y variable name\n",
    "            hue = \"prob\",  # group variable name\n",
    "            data = result_df_pixel,     # dataframe to plot\n",
    "            kind = \"bar\")"
   ]
  },
  {
   "cell_type": "code",
   "execution_count": 262,
   "id": "74602337",
   "metadata": {},
   "outputs": [],
   "source": [
    "result_all_df = result_df_pixel.merge(result_df_axis,on=['prob','dim'],suffixes=('_pixel', '_axis'))"
   ]
  },
  {
   "cell_type": "code",
   "execution_count": 263,
   "id": "814bdbd3",
   "metadata": {},
   "outputs": [
    {
     "data": {
      "text/html": [
       "<div>\n",
       "<style scoped>\n",
       "    .dataframe tbody tr th:only-of-type {\n",
       "        vertical-align: middle;\n",
       "    }\n",
       "\n",
       "    .dataframe tbody tr th {\n",
       "        vertical-align: top;\n",
       "    }\n",
       "\n",
       "    .dataframe thead th {\n",
       "        text-align: right;\n",
       "    }\n",
       "</style>\n",
       "<table border=\"1\" class=\"dataframe\">\n",
       "  <thead>\n",
       "    <tr style=\"text-align: right;\">\n",
       "      <th></th>\n",
       "      <th>dim</th>\n",
       "      <th>prob</th>\n",
       "      <th>acc_pixel</th>\n",
       "      <th>acc_axis</th>\n",
       "    </tr>\n",
       "  </thead>\n",
       "  <tbody>\n",
       "    <tr>\n",
       "      <th>0</th>\n",
       "      <td>256</td>\n",
       "      <td>Gaussian</td>\n",
       "      <td>0.7938</td>\n",
       "      <td>0.7785</td>\n",
       "    </tr>\n",
       "    <tr>\n",
       "      <th>1</th>\n",
       "      <td>256</td>\n",
       "      <td>Laplacian</td>\n",
       "      <td>0.8004</td>\n",
       "      <td>0.8041</td>\n",
       "    </tr>\n",
       "    <tr>\n",
       "      <th>2</th>\n",
       "      <td>256</td>\n",
       "      <td>Uniform</td>\n",
       "      <td>0.8089</td>\n",
       "      <td>0.7978</td>\n",
       "    </tr>\n",
       "    <tr>\n",
       "      <th>3</th>\n",
       "      <td>512</td>\n",
       "      <td>Gaussian</td>\n",
       "      <td>0.8176</td>\n",
       "      <td>0.8082</td>\n",
       "    </tr>\n",
       "    <tr>\n",
       "      <th>4</th>\n",
       "      <td>512</td>\n",
       "      <td>Laplacian</td>\n",
       "      <td>0.8074</td>\n",
       "      <td>0.8174</td>\n",
       "    </tr>\n",
       "    <tr>\n",
       "      <th>5</th>\n",
       "      <td>512</td>\n",
       "      <td>Uniform</td>\n",
       "      <td>0.8051</td>\n",
       "      <td>0.8114</td>\n",
       "    </tr>\n",
       "    <tr>\n",
       "      <th>6</th>\n",
       "      <td>4096</td>\n",
       "      <td>Gaussian</td>\n",
       "      <td>0.8238</td>\n",
       "      <td>0.8230</td>\n",
       "    </tr>\n",
       "    <tr>\n",
       "      <th>7</th>\n",
       "      <td>4096</td>\n",
       "      <td>Laplacian</td>\n",
       "      <td>0.8243</td>\n",
       "      <td>0.8195</td>\n",
       "    </tr>\n",
       "    <tr>\n",
       "      <th>8</th>\n",
       "      <td>4096</td>\n",
       "      <td>Uniform</td>\n",
       "      <td>0.8229</td>\n",
       "      <td>0.8217</td>\n",
       "    </tr>\n",
       "    <tr>\n",
       "      <th>9</th>\n",
       "      <td>10000</td>\n",
       "      <td>Gaussian</td>\n",
       "      <td>0.8235</td>\n",
       "      <td>0.8250</td>\n",
       "    </tr>\n",
       "    <tr>\n",
       "      <th>10</th>\n",
       "      <td>10000</td>\n",
       "      <td>Laplacian</td>\n",
       "      <td>0.8245</td>\n",
       "      <td>0.8254</td>\n",
       "    </tr>\n",
       "    <tr>\n",
       "      <th>11</th>\n",
       "      <td>10000</td>\n",
       "      <td>Uniform</td>\n",
       "      <td>0.8219</td>\n",
       "      <td>0.8193</td>\n",
       "    </tr>\n",
       "  </tbody>\n",
       "</table>\n",
       "</div>"
      ],
      "text/plain": [
       "      dim       prob  acc_pixel  acc_axis\n",
       "0     256   Gaussian     0.7938    0.7785\n",
       "1     256  Laplacian     0.8004    0.8041\n",
       "2     256    Uniform     0.8089    0.7978\n",
       "3     512   Gaussian     0.8176    0.8082\n",
       "4     512  Laplacian     0.8074    0.8174\n",
       "5     512    Uniform     0.8051    0.8114\n",
       "6    4096   Gaussian     0.8238    0.8230\n",
       "7    4096  Laplacian     0.8243    0.8195\n",
       "8    4096    Uniform     0.8229    0.8217\n",
       "9   10000   Gaussian     0.8235    0.8250\n",
       "10  10000  Laplacian     0.8245    0.8254\n",
       "11  10000    Uniform     0.8219    0.8193"
      ]
     },
     "execution_count": 263,
     "metadata": {},
     "output_type": "execute_result"
    }
   ],
   "source": [
    "result_all_df"
   ]
  }
 ],
 "metadata": {
  "kernelspec": {
   "display_name": "Python 3 (ipykernel)",
   "language": "python",
   "name": "python3"
  },
  "language_info": {
   "codemirror_mode": {
    "name": "ipython",
    "version": 3
   },
   "file_extension": ".py",
   "mimetype": "text/x-python",
   "name": "python",
   "nbconvert_exporter": "python",
   "pygments_lexer": "ipython3",
   "version": "3.9.7"
  }
 },
 "nbformat": 4,
 "nbformat_minor": 5
}
