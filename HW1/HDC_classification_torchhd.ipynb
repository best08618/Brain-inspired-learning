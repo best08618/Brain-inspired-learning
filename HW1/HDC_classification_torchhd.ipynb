{
 "cells": [
  {
   "cell_type": "code",
   "execution_count": 1,
   "id": "e099f20a",
   "metadata": {},
   "outputs": [],
   "source": [
    "import torch, torchhd\n",
    "import torch.nn as nn"
   ]
  },
  {
   "cell_type": "code",
   "execution_count": 2,
   "id": "a44c9472",
   "metadata": {},
   "outputs": [],
   "source": [
    "import torchhd\n",
    "from torchhd.models import Centroid\n",
    "from torchhd import embeddings"
   ]
  },
  {
   "cell_type": "code",
   "execution_count": 3,
   "id": "5ec724e6",
   "metadata": {},
   "outputs": [],
   "source": [
    "import torchmetrics\n",
    "from tqdm import tqdm"
   ]
  },
  {
   "cell_type": "code",
   "execution_count": 4,
   "id": "420b6ecf",
   "metadata": {},
   "outputs": [],
   "source": [
    "import sys\n",
    "import struct\n",
    "import numpy as np\n",
    "import sklearn\n",
    "from sklearn import preprocessing\n",
    "def readChoirData(dir,data_path, data_type):\n",
    "\n",
    "    filename = dir + data_path + \"_\" + data_type + \".choir_dat\"\n",
    "    param = dict()\n",
    "\n",
    "    with open(filename, 'rb') as f:\n",
    "        nFeatures = struct.unpack('i', f.read(4))[0]\n",
    "        nClasses = struct.unpack('i', f.read(4))[0]\n",
    "        X = []\n",
    "        y = []\n",
    "        while True:\n",
    "            newDP = []\n",
    "            for i in range(nFeatures):\n",
    "                v_in_bytes = f.read(4)\n",
    "                if v_in_bytes is None or len(v_in_bytes) == 0:\n",
    "                    # TODO very unprofessionally normalizing data\n",
    "                    X = preprocessing.normalize(np.asarray(X), norm='l2')\n",
    "                    param[\"nFeatures\"], param[\"nClasses\"], param[\"data\"], param[\"labels\"] = \\\n",
    "                        nFeatures, nClasses, X, np.asarray(y)\n",
    "                    return param\n",
    "                v = struct.unpack('f', v_in_bytes)[0]\n",
    "                newDP.append(v)\n",
    "            l = struct.unpack('i', f.read(4))[0]\n",
    "            X.append(newDP)\n",
    "            y.append(l)\n",
    "\n",
    "train_data  = readChoirData('../isolet/','isolet', 'train')\n",
    "test_data= readChoirData('../isolet/','isolet', 'test')"
   ]
  },
  {
   "cell_type": "code",
   "execution_count": 6,
   "id": "e8660552",
   "metadata": {},
   "outputs": [],
   "source": [
    "class Encoder(nn.Module):\n",
    "    def __init__(self, out_features, size):\n",
    "        super(Encoder, self).__init__()\n",
    "        self.encoder = embeddings.Sinusoid(size,out_features)\n",
    "\n",
    "    def forward(self, x):\n",
    "        sample_hv = self.encoder(x)\n",
    "        return sample_hv\n"
   ]
  },
  {
   "cell_type": "code",
   "execution_count": 8,
   "id": "4e28be75",
   "metadata": {},
   "outputs": [
    {
     "name": "stderr",
     "output_type": "stream",
     "text": [
      "Training: 6238it [00:00, 9659.44it/s]\n",
      "Testing: 6238it [00:02, 2932.74it/s]\n",
      "Training: 6238it [00:00, 6345.15it/s]\n",
      "Testing: 6238it [00:02, 2458.04it/s]\n",
      "Training: 6238it [00:01, 3815.96it/s]\n",
      "Testing: 6238it [00:03, 1884.98it/s]\n",
      "Training: 6238it [00:02, 2554.92it/s]\n",
      "Testing: 6238it [00:04, 1379.41it/s]\n",
      "Training: 6238it [00:03, 2002.22it/s]\n",
      "Testing: 6238it [00:05, 1207.34it/s]\n",
      "Training: 6238it [00:03, 1709.37it/s]\n",
      "Testing: 6238it [00:06, 1036.19it/s]\n"
     ]
    }
   ],
   "source": [
    "result = []\n",
    "for dim in range(1000,7000,1000):\n",
    "    encode = Encoder(dim,train_data['nFeatures'])\n",
    "    model =Centroid(dim,train_data['nClasses'])\n",
    "    with torch.no_grad():\n",
    "        for samples, labels in tqdm(zip(train_data['data'],train_data['labels']), desc=\"Training\"):\n",
    "            samples = torch.Tensor(samples)\n",
    "            labels = torch.from_numpy(np.array(labels))\n",
    "            samples_hv = encode(samples)\n",
    "            model.add(samples_hv, labels)\n",
    "\n",
    "    accuracy = torchmetrics.Accuracy(\"multiclass\", num_classes=train_data['nClasses'])\n",
    "    with torch.no_grad():\n",
    "        model.normalize()\n",
    "\n",
    "        for samples, labels in tqdm(zip(train_data['data'],train_data['labels']), desc=\"Testing\"):\n",
    "            samples = torch.Tensor(samples)\n",
    "            labels = torch.from_numpy(np.array([labels]))\n",
    "            samples_hv = encode(samples)\n",
    "            outputs = np.argmax(model(samples_hv, dot=True)).view(-1)\n",
    "            accuracy.update(outputs, labels)\n",
    "    result.append(accuracy.compute())"
   ]
  },
  {
   "cell_type": "code",
   "execution_count": 25,
   "id": "756df034",
   "metadata": {},
   "outputs": [
    {
     "data": {
      "text/plain": [
       "(0.85, 0.92)"
      ]
     },
     "execution_count": 25,
     "metadata": {},
     "output_type": "execute_result"
    },
    {
     "data": {
      "image/png": "[encoded data removed]",
      "text/plain": [
       "<Figure size 432x288 with 1 Axes>"
      ]
     },
     "metadata": {
      "needs_background": "light"
     },
     "output_type": "display_data"
    }
   ],
   "source": [
    "import matplotlib.pyplot as plt\n",
    "fig,ax = plt.subplots(1)\n",
    "ax.plot(range(1000,7000,1000),result)\n",
    "ax.set_ylim([0.85,0.92])"
   ]
  }
 ],
 "metadata": {
  "kernelspec": {
   "display_name": "Python 3 (ipykernel)",
   "language": "python",
   "name": "python3"
  },
  "language_info": {
   "codemirror_mode": {
    "name": "ipython",
    "version": 3
   },
   "file_extension": ".py",
   "mimetype": "text/x-python",
   "name": "python",
   "nbconvert_exporter": "python",
   "pygments_lexer": "ipython3",
   "version": "3.9.7"
  }
 },
 "nbformat": 4,
 "nbformat_minor": 5
}
